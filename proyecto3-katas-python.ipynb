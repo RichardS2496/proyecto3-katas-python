{
 "cells": [
  {
   "cell_type": "code",
   "execution_count": 13,
   "id": "1d88728e",
   "metadata": {},
   "outputs": [
    {
     "name": "stdout",
     "output_type": "stream",
     "text": [
      "Respuesta del ejericio 01: {'h': 2, 'o': 3, 'l': 1, 'a': 2, 'm': 1, 'u': 1, 'n': 2, 'd': 2, 'e': 1, 'p': 4, 'y': 1, 't': 1}\n"
     ]
    }
   ],
   "source": [
    "# EJERCICIO 01: Escribe una función que reciba una cadena de texto como parámetro y \n",
    "# devuelva un diccionario con las frecuencias de cada letra en la cadena. \n",
    "# Los espacios no deben ser considerados.\n",
    "\n",
    "text = \"holaa mundo de Python p p p\"\n",
    "\n",
    "def counterLetter(text):\n",
    "    new_dict = {}\n",
    "\n",
    "    text_converted = text.lower()\n",
    "    #En este punto quise que contara las mayus y minus como una misma letra.\n",
    "\n",
    "    for letter in text_converted:\n",
    "        if letter == \" \":\n",
    "            continue\n",
    "        elif letter in new_dict:\n",
    "            new_dict[letter] += 1\n",
    "        else:\n",
    "            new_dict[letter] = 1\n",
    "    return new_dict\n",
    "   \n",
    "\n",
    "print(f\"Respuesta del ejericio 01: {counterLetter(text)}\")\n"
   ]
  },
  {
   "cell_type": "code",
   "execution_count": 12,
   "id": "638e08fa",
   "metadata": {},
   "outputs": [
    {
     "name": "stdout",
     "output_type": "stream",
     "text": [
      "Respuesta del ejercicio 02: [46, 50, 152, 10, 6, 90, 5094, 90, 470]\n"
     ]
    }
   ],
   "source": [
    "#EJERCICIO 02: Dada una lista de números, obtén una nueva lista con el doble de cada valor. Usa la función map().\n",
    "\n",
    "lista_numeros=[23,25,76,5,3,45,2547,45,235]\n",
    "\n",
    "new_list_number = map(lambda x:x*2, lista_numeros)\n",
    "\n",
    "print(f\"Respuesta del ejercicio 02: {list(new_list_number)}\")"
   ]
  },
  {
   "cell_type": "code",
   "execution_count": 20,
   "id": "734134c6",
   "metadata": {},
   "outputs": [
    {
     "name": "stdout",
     "output_type": "stream",
     "text": [
      "Respuesta del ejercicio 03: ['Vida en Sevilla', 'Acuario de Sevilla']\n"
     ]
    }
   ],
   "source": [
    "#EJERCICIO 03: Escribe una función que tome una lista de palabras y una palabra objetivo como parámetros. \n",
    "# La función debe devolver una lista con todas las palabras de la lista original que contengan la palabra objetivo.\n",
    "\n",
    "list_phrases = [\"Vida en Sevilla\", \"Castilla La Mancha\", \"Verano en Madrid\", \"Espetos de Malaga\", \"Acuario de Sevilla\"]\n",
    "word = \"Sevilla\"\n",
    "\n",
    "new_list=[]\n",
    "\n",
    "\n",
    "def findWordInPhrases (phrases, word):\n",
    "    for phrase in phrases:\n",
    "        if word in phrase:\n",
    "            new_list.append(phrase)\n",
    "    return new_list\n",
    "print(f\"Respuesta del ejercicio 03: {findWordInPhrases(list_phrases, word)}\")\n"
   ]
  },
  {
   "cell_type": "code",
   "execution_count": 8,
   "id": "ee3e34dd",
   "metadata": {},
   "outputs": [
    {
     "name": "stdout",
     "output_type": "stream",
     "text": [
      "Respuesta del ejercicio 04: [3, 2, 10, -2, -7, 0]\n"
     ]
    }
   ],
   "source": [
    "#EJERCICIO 04: Genera una función que calcule la diferencia entre los valores de dos listas. Usa la función map().\n",
    "\n",
    "lista1 = [5, 10, 15, 2, 13, 4]\n",
    "lista2 = [2, 8, 5, 4, 20, 4]\n",
    "\n",
    "\n",
    "def restaLista(lista1, lista2):\n",
    "    resultado = map(lambda x,y: x-y, lista1, lista2)\n",
    "    return resultado\n",
    "\n",
    "\n",
    "print(f\"Respuesta del ejercicio 04: {list(restaLista(lista1, lista2))}\")"
   ]
  },
  {
   "cell_type": "code",
   "execution_count": null,
   "id": "ce3bb01e",
   "metadata": {},
   "outputs": [
    {
     "data": {
      "text/plain": [
       "(4.65, 'Suspenso')"
      ]
     },
     "execution_count": 39,
     "metadata": {},
     "output_type": "execute_result"
    }
   ],
   "source": [
    "#EJERCICIO 05: Escribe una función que tome una lista de números como parámetro y un valor opcional nota_aprobado (por defecto 5). \n",
    "# La función debe calcular la media de los números en la lista y determinar si la media es mayor o igual que nota_aprobado. \n",
    "# Si es así, el estado será \"aprobado\"; de lo contrario, \"suspenso\". \n",
    "# La función debe devolver una tupla que contenga la media y el estado.\n",
    "\n",
    "from functools import reduce\n",
    "\n",
    "lista_numeros2=[9, 5, 7, 6, 5, 3, 4, 5, 2, 5, 4, 7, 4, 2, 3, 3, 5]\n",
    "\n",
    "def calculateAvg (lista, nota_aprobado = 5):\n",
    "    #A continuacion, hago el calculo de la media con el reduce, como me arroja muchos decimales he redondeado a 2\n",
    "    average= round(reduce(lambda x,y: x+y, lista) / len(lista), 2)\n",
    "\n",
    "    if average >= nota_aprobado:\n",
    "        return (average, \"Aprobado\")\n",
    "    else:\n",
    "        return (average, \"Suspenso\")\n",
    "\n",
    "calculateAvg(lista_numeros2)"
   ]
  },
  {
   "cell_type": "code",
   "execution_count": 11,
   "id": "1e104398",
   "metadata": {},
   "outputs": [
    {
     "name": "stdout",
     "output_type": "stream",
     "text": [
      "El resultado es: 24\n"
     ]
    }
   ],
   "source": [
    "#EJERCICIO 06: Escribe una función que calcule el factorial de un número de manera recursiva.\n",
    "\n",
    "numero = 4\n",
    "\n",
    "def calculateFactorial(numero):\n",
    "    if numero == 0 or numero == 1:\n",
    "        return 1\n",
    "    else:\n",
    "        return numero * calculateFactorial(numero - 1)\n",
    "    \n",
    "print(f\"El resultado es: {calculateFactorial(numero)}\")"
   ]
  },
  {
   "cell_type": "code",
   "execution_count": 17,
   "id": "76726f6e",
   "metadata": {},
   "outputs": [
    {
     "name": "stdout",
     "output_type": "stream",
     "text": [
      "[\"('Ana', 25)\", \"('Luis', 30)\", \"('María', 28)\", \"('Pedro', 35)\"]\n"
     ]
    }
   ],
   "source": [
    "#EJERCICIO 07: Genera una función que convierta una lista de tuplas a una lista de strings. Usa la función map().\n",
    "\n",
    "personas = [(\"Ana\", 25),(\"Luis\", 30),(\"María\", 28),(\"Pedro\", 35)]\n",
    "\n",
    "def tupleConverter(my_tuple_list):\n",
    "   return map(lambda x: str(x), my_tuple_list)\n",
    "    \n",
    "\n",
    "print(list(tupleConverter(personas)))"
   ]
  },
  {
   "cell_type": "code",
   "execution_count": 23,
   "id": "38a5e1b9",
   "metadata": {},
   "outputs": [
    {
     "name": "stdout",
     "output_type": "stream",
     "text": [
      "Iniciando el programa...\n",
      "La división fue exitosa. Resultado: 5.0\n",
      "Programa finalizado.\n"
     ]
    }
   ],
   "source": [
    "#EJERCICIO 08: Escribe un programa que pida al usuario dos números e intente dividirlos. \n",
    "#Si el usuario ingresa un valor no numérico o intenta dividir por cero, maneja esas excepciones de manera adecuada y muestra un mensaje indicando si la división fue exitosa o no.\n",
    "\n",
    "\n",
    "try:\n",
    "    print('Iniciando el programa...')\n",
    "    num1 = int(input(\"Introduzca un numero\"))\n",
    "    num2 = int(input(\"Introduzca otro numero\"))\n",
    "\n",
    "    resultado= num1/num2\n",
    "\n",
    "except ValueError:\n",
    "    print('Debes introducir solo valores numericos.')\n",
    "\n",
    "except ZeroDivisionError:\n",
    "    print('No es posible dividir entre cero.')\n",
    "\n",
    "else:\n",
    "    print(f\"La división fue exitosa. Resultado: {resultado}\")\n",
    "\n",
    "finally:\n",
    "    print(\"Programa finalizado.\")\n"
   ]
  },
  {
   "cell_type": "code",
   "execution_count": 24,
   "id": "4925cb63",
   "metadata": {},
   "outputs": [
    {
     "name": "stdout",
     "output_type": "stream",
     "text": [
      "La lista de los animales, excluyendo los prohibidos en España, es: ['Elefante', 'Gorila', 'Águila', 'Camello', 'Delfín', 'Zorro', 'Jirafa', 'Caballo', 'Pingüino']\n"
     ]
    }
   ],
   "source": [
    "#EJERCICIO 09: Escribe una función que tome una lista de nombres de mascotas como parámetro y devuelva una nueva lista excluyendo ciertas mascotas prohibidas en España. \n",
    "# La lista de mascotas a excluir es [\"Mapache\", \"Tigre\", \"Serpiente Pitón\", \"Cocodrilo\", \"Oso\"]. Usa la función filter().\n",
    "\n",
    "animal_list = [\"Mapache\", \"Tigre\", \"Serpiente Pitón\", \"Cocodrilo\", \"Oso\", \"Elefante\", \"Gorila\", \"Águila\", \"Camello\", \"Delfín\", \"Zorro\", \"Jirafa\", \"Caballo\", \"Pingüino\"]\n",
    "\n",
    "excluded_animal_list = [\"Mapache\", \"Tigre\", \"Serpiente Pitón\", \"Cocodrilo\", \"Oso\"]\n",
    "\n",
    "\n",
    "def excludeAnimal( list1, list2):\n",
    "    return list(filter(lambda x: x not in list2, list1))\n",
    "\n",
    "print(f'La lista de los animales, excluyendo los prohibidos en España, es: {excludeAnimal(animal_list, excluded_animal_list)}')"
   ]
  },
  {
   "cell_type": "code",
   "execution_count": 30,
   "id": "342f8438",
   "metadata": {},
   "outputs": [
    {
     "name": "stdout",
     "output_type": "stream",
     "text": [
      "El promedio es: 7.58\n"
     ]
    }
   ],
   "source": [
    "#EJERCICIO 10: Escribe una función que reciba una lista de números y calcule su promedio. \n",
    "# Si la lista está vacía, lanza una excepción personalizada y maneja el error adecuadamente.\n",
    "\n",
    "from functools import reduce\n",
    "\n",
    "lista_numeros3=[9, 5, 7, 6, 5, 3, 4, 5, 2, 5, 4, 7, 4, 2, 3, 3, 5,20,45]\n",
    "\n",
    "class EmptyValueError(Exception):\n",
    "    \"\"\"Se lanza cuando la lista está vacía.\"\"\"\n",
    "    pass\n",
    "\n",
    "def calculateAvg2(lista):\n",
    "    if len(lista)==0:\n",
    "        raise EmptyValueError('La lista esta vacia') #tuve que usar la IA con el tema de excepcion personalizada\n",
    "    else:\n",
    "        return round(reduce(lambda x,y: x+y,lista)/len(lista),2)\n",
    "\n",
    "try:\n",
    "    print(f\"El promedio es: {calculateAvg2(lista_numeros3)}\")\n",
    "except EmptyValueError as e:\n",
    "    print(f\"❌ Error: {e}\")"
   ]
  },
  {
   "cell_type": "code",
   "execution_count": 4,
   "id": "e6ed96ed",
   "metadata": {},
   "outputs": [
    {
     "name": "stdout",
     "output_type": "stream",
     "text": [
      "Iniciando el programa...\n",
      "Por favor, introduzca solo numeros\n"
     ]
    }
   ],
   "source": [
    "#EJERCICIO 11: Escribe un programa que pida al usuario que introduzca su edad. \n",
    "# Si el usuario ingresa un valor no numérico o un valor fuera del rango esperado \n",
    "# (por ejemplo, menor que 0 o mayor que 120), maneja las excepciones adecuadamente.\n",
    "\n",
    "try:\n",
    "    print('Iniciando el programa...')\n",
    "    age = int(input('Ingrese la edad de la persona'))\n",
    "\n",
    "    if age < 0 or age > 120:\n",
    "        print('La edad solo puede estar entre 0 a 120')\n",
    "    else:\n",
    "        print('Edad ingresada, terminando programa...')\n",
    "\n",
    "except ValueError:\n",
    "    print('Por favor, introduzca solo numeros')"
   ]
  },
  {
   "cell_type": "code",
   "execution_count": null,
   "id": "bf1bc6e4",
   "metadata": {},
   "outputs": [
    {
     "name": "stdout",
     "output_type": "stream",
     "text": [
      "[4, 5, 2, 2, 6]\n"
     ]
    }
   ],
   "source": [
    "#EJERCICIO 12:Genera una función que, al recibir una frase, devuelva una lista con la longitud de cada palabra. \n",
    "# Usa la función map().\n",
    "\n",
    "\n",
    "phrase = 'Este texto va de prueba'\n",
    "\n",
    "def longCalculate(text):\n",
    "\n",
    "    textListed = text.split(' ')\n",
    "    return list(map(lambda x: len(x),textListed))\n",
    "\n",
    "\n",
    "print(longCalculate(phrase))\n",
    "\n",
    "#Segun GPT tambien existe esta forma pero no usa el map() sino list comprehesion [len(x) for x in text.split(' ')], ahorra solo una linea pero aun no la comprendo, luego lo practico"
   ]
  },
  {
   "cell_type": "code",
   "execution_count": 16,
   "id": "4c911d4f",
   "metadata": {},
   "outputs": [
    {
     "name": "stdout",
     "output_type": "stream",
     "text": [
      "[('A', 'a'), ('ER', 'er'), ('B', 'b'), ('C', 'c'), ('P', 'p')]\n"
     ]
    }
   ],
   "source": [
    "#EJERCICIO 13: Genera una función que, para un conjunto de caracteres, devuelva una lista de tuplas con cada letra en mayúsculas y minúsculas. \n",
    "# Las letras no pueden estar repetidas. \n",
    "# Usa la función map().\n",
    "\n",
    "characters = {'a', 'b', 'c', 'p', 'a', 'er'}\n",
    "\n",
    "def tupletor(characters):\n",
    "    return list(map( lambda x: (x.upper(), x.lower()),characters)) #las tuplas no permiten valores repetidos\n",
    "\n",
    "print(tupletor(characters))\n",
    "\n"
   ]
  },
  {
   "cell_type": "code",
   "execution_count": 27,
   "id": "1c6d012a",
   "metadata": {},
   "outputs": [
    {
     "name": "stdout",
     "output_type": "stream",
     "text": [
      "['Hielo', 'Helado', 'heladeria']\n"
     ]
    }
   ],
   "source": [
    "#EJERCICIO 14: Crea una función que retorne las palabras de una lista que comiencen con una letra en específico. Usa la función filter().\n",
    "\n",
    "words = ['Queso', 'Manzana', 'Pera', 'Durazno', 'Hielo', 'Helado', 'Quinoa', 'heladeria']\n",
    "letter = 'H'\n",
    "\n",
    "def startLetterDetecter (words, letter):\n",
    "    \n",
    "    return list(filter(lambda x: x.lower().startswith(letter.lower()), words))\n",
    "\n",
    "print(startLetterDetecter(words, letter))"
   ]
  },
  {
   "cell_type": "code",
   "execution_count": 34,
   "id": "6e1daec6",
   "metadata": {},
   "outputs": [
    {
     "name": "stdout",
     "output_type": "stream",
     "text": [
      "La nueva lista con valor sumado es: [237, 26, 4, 9, 11, 67, 6, 26, 8, 12, 3, 11]\n"
     ]
    }
   ],
   "source": [
    "#EJERCICIO 15: Crea una función lambda que sume 3 a cada número de una lista dada.\n",
    "\n",
    "lista_numeros4 = [234,23,1,6,8,64,3,23,5,9,0,8]\n",
    "\n",
    "#Como llevo rato usando map() para ejercicios simialres he intentado con list comprehesion\n",
    "sumador_3 = lambda lista: [x + 3 for x in lista]\n",
    "\n",
    "print(f'La nueva lista con valor sumado es: {sumador_3(lista_numeros4)}')"
   ]
  },
  {
   "cell_type": "code",
   "execution_count": 42,
   "id": "b679c664",
   "metadata": {},
   "outputs": [
    {
     "name": "stdout",
     "output_type": "stream",
     "text": [
      "['Etiquetas', 'Palomitas']\n"
     ]
    }
   ],
   "source": [
    "#EJERCICIO 16: Escribe una función que tome una cadena de texto y un número entero n como parámetros y \n",
    "# devuelva una lista de todas las palabras que sean más largas que n. \n",
    "# Usa la función filter().\n",
    "\n",
    "words = ['Libros', 'Etiquetas', 'Funkos', 'Cascos', 'Palomitas', 'Tres', 'AP']\n",
    "number = 6\n",
    "\n",
    "def longerWord(words, number):\n",
    "    # word_converted = list(word)\n",
    "    return list(filter( lambda x: len(x)> number , words))\n",
    "\n",
    "print(longerWord(words, number))"
   ]
  },
  {
   "cell_type": "code",
   "execution_count": 47,
   "id": "da5df498",
   "metadata": {},
   "outputs": [
    {
     "name": "stdout",
     "output_type": "stream",
     "text": [
      "572524\n"
     ]
    }
   ],
   "source": [
    "#EJERCICIO 17: Crea una función que tome una lista de dígitos y devuelva el número correspondiente. \n",
    "# Por ejemplo, [5,7,2] corresponde al número 572. Usa la función reduce().\n",
    "\n",
    "#Mi idea es convertir estos numeros a string, y ver si aplicar el reduce me los junta y no los suma...\n",
    "\n",
    "from functools import reduce\n",
    "\n",
    "digitos = [5,7,2, 5, 2, 4] \n",
    "\n",
    "def digitConverter(lista):\n",
    "    list_converted= list(map(lambda x: str(x), lista))\n",
    "    return int(reduce( lambda x, y: x+y, list_converted))\n",
    "\n",
    "print(digitConverter(digitos))"
   ]
  },
  {
   "cell_type": "code",
   "execution_count": 2,
   "id": "4362e5c2",
   "metadata": {},
   "outputs": [
    {
     "name": "stdout",
     "output_type": "stream",
     "text": [
      "[{'nombre': 'Ana', 'edad': 20, 'calificacion': 95}, {'nombre': 'María', 'edad': 19, 'calificacion': 90}]\n"
     ]
    }
   ],
   "source": [
    "#EJERCICIO 18: Escribe un programa en Python que cree una lista de diccionarios con información de estudiantes (nombre, edad, calificación) y \n",
    "# use filter para extraer a los estudiantes con una calificación mayor o igual a 90.\n",
    "\n",
    "\n",
    "estudiantes = [\n",
    "    {\"nombre\": \"Ana\", \"edad\": 20, \"calificacion\": 95},\n",
    "    {\"nombre\": \"Luis\", \"edad\": 22, \"calificacion\": 85},\n",
    "    {\"nombre\": \"María\", \"edad\": 19, \"calificacion\": 90},\n",
    "    {\"nombre\": \"Pedro\", \"edad\": 21, \"calificacion\": 75},\n",
    "]\n",
    "\n",
    "estudiantes_pro = list(filter( lambda x: x['calificacion'] >= 90,estudiantes))\n",
    "\n",
    "print(estudiantes_pro)"
   ]
  },
  {
   "cell_type": "code",
   "execution_count": 9,
   "id": "572433b4",
   "metadata": {},
   "outputs": [
    {
     "name": "stdout",
     "output_type": "stream",
     "text": [
      "[237, 9, 11, 67, 3, 11]\n"
     ]
    }
   ],
   "source": [
    "#EJERCICIO 19: Crea una función lambda que filtre los números impares de una lista dada.\n",
    "\n",
    "lista = [237, 26, 4, 9, 11, 67, 6, 26, 8, 12, 3, 11]\n",
    "\n",
    "impar_list = list(filter(lambda x : x % 2 != 0, lista))\n",
    "# impar_list = [x for x in lista if x % 2 != 0] -> comprehesion list\n",
    "\n",
    "print(impar_list)"
   ]
  },
  {
   "cell_type": "code",
   "execution_count": 13,
   "id": "bc4d00d1",
   "metadata": {},
   "outputs": [
    {
     "name": "stdout",
     "output_type": "stream",
     "text": [
      "[23, 89, 12, 45, 67, 90, 3]\n"
     ]
    }
   ],
   "source": [
    "#EJERCICIO 20: Para una lista con elementos de tipo integer y string, obtén una nueva lista solo con los valores int. \n",
    "# Usa la función filter().\n",
    "\n",
    "mix_lista = [23, \"python\", 89, \"código\", 12, \"ejercicio\", 45, \"lambda\", 67, \"filter\", 90, \"map\", 3, \"reduce\"]\n",
    "\n",
    "def intGetter(lista):\n",
    "    return list(filter( lambda x : type(x) == int , lista))\n",
    "\n",
    "print(intGetter(mix_lista))"
   ]
  },
  {
   "cell_type": "code",
   "execution_count": 18,
   "id": "6db77f1f",
   "metadata": {},
   "outputs": [
    {
     "name": "stdout",
     "output_type": "stream",
     "text": [
      "64\n"
     ]
    }
   ],
   "source": [
    "#EJERCICIO 21: Crea una función que calcule el cubo de un número dado mediante una función lambda.\n",
    "\n",
    "number = int(input('Introduce un número'))\n",
    "\n",
    "calculateCubed= lambda num : num ** 3\n",
    "\n",
    "print(calculateCubed(number))"
   ]
  },
  {
   "cell_type": "code",
   "execution_count": 21,
   "id": "a0cd8efa",
   "metadata": {},
   "outputs": [
    {
     "name": "stdout",
     "output_type": "stream",
     "text": [
      "19996324200\n"
     ]
    }
   ],
   "source": [
    "#EJERCICIO 22: Dada una lista numérica, obtén el producto total de los valores. Usa la función reduce().\n",
    "\n",
    "from functools import reduce\n",
    "\n",
    "numbers = [23, 89, 12, 45, 67, 90, 3]\n",
    "\n",
    "producto = int(reduce(lambda x, y: x * y, numbers))\n",
    "\n",
    "print(producto)"
   ]
  },
  {
   "cell_type": "code",
   "execution_count": 23,
   "id": "7a5846c9",
   "metadata": {},
   "outputs": [
    {
     "name": "stdout",
     "output_type": "stream",
     "text": [
      "LibrosEtiquetasFunkosCascosPalomitasTresAP\n"
     ]
    }
   ],
   "source": [
    "# EJERCICIO 23: Concatena una lista de palabras. Usa la función reduce().\n",
    "\n",
    "words = ['Libros', 'Etiquetas', 'Funkos', 'Cascos', 'Palomitas', 'Tres', 'AP']\n",
    "\n",
    "from functools import reduce\n",
    "\n",
    "concatenado = reduce(lambda x, y : x+y, words)\n",
    "\n",
    "print(concatenado)"
   ]
  },
  {
   "cell_type": "code",
   "execution_count": 26,
   "id": "76c1a68d",
   "metadata": {},
   "outputs": [
    {
     "name": "stdout",
     "output_type": "stream",
     "text": [
      "-283\n"
     ]
    }
   ],
   "source": [
    "#EJERCICIO 24: Calcula la diferencia total en los valores de una lista. Usa la función reduce()\n",
    "\n",
    "numbers = [23, 89, 12, 45, 67, 90, 3]\n",
    "\n",
    "total_difference = int(reduce(lambda x, y: x - y, numbers))\n",
    "\n",
    "print(total_difference)"
   ]
  },
  {
   "cell_type": "code",
   "execution_count": 37,
   "id": "fcbae6d5",
   "metadata": {},
   "outputs": [
    {
     "name": "stdout",
     "output_type": "stream",
     "text": [
      "['h', 'o', 'l', 'a', 'm', 'u', 'n', 'd', 'o', 'd', 'e', 'p', 'y', 't', 'h', 'o', 'n']\n",
      "El texto \"hola mundo de python\" tiene un total de 17 caracteres\n"
     ]
    }
   ],
   "source": [
    "#EJERCICIO 25: Crea una función que cuente el número de caracteres en una cadena de texto dada.\n",
    "\n",
    "texto = input('Ingrese un texto')\n",
    "\n",
    "def contador(text):\n",
    "   lista_string = [x for x in text if x != \" \"]\n",
    "   print(lista_string)\n",
    "   return len(lista_string)\n",
    "\n",
    "print(f'El texto \"{texto}\" tiene un total de {contador(texto)} caracteres')"
   ]
  },
  {
   "cell_type": "code",
   "execution_count": null,
   "id": "a83f43d1",
   "metadata": {},
   "outputs": [
    {
     "name": "stdout",
     "output_type": "stream",
     "text": [
      "0\n"
     ]
    }
   ],
   "source": [
    "# EJERCICIO 26: Crea una función lambda que calcule el resto de la división entre dos números dados.\n",
    "\n",
    "try:\n",
    "\n",
    "    num1 =  int(input('Introduce el primer numero'))\n",
    "    num2 =  int(input('Introduce el segundo numero'))\n",
    "\n",
    "    rest_division = lambda num1, num2 : num1 % num2\n",
    "\n",
    "    print(rest_division(num1, num2))\n",
    "\n",
    "except ZeroDivisionError:\n",
    "    print('No puede dividir entre 0')"
   ]
  },
  {
   "cell_type": "code",
   "execution_count": 49,
   "id": "7165092f",
   "metadata": {},
   "outputs": [
    {
     "name": "stdout",
     "output_type": "stream",
     "text": [
      "7.58\n"
     ]
    }
   ],
   "source": [
    "#EJERCICIO 27: Crea una función que calcule el promedio de una lista de números.\n",
    "\n",
    "from functools import reduce\n",
    "\n",
    "lista_numeros6=[9, 5, 7, 6, 5, 3, 4, 5, 2, 5, 4, 7, 4, 2, 3, 3, 5,20,45]\n",
    "\n",
    "def calculateNewAvg(lista):\n",
    "    return round(reduce(lambda x, y : x + y, lista)/len(lista),2)\n",
    "\n",
    "print(calculateNewAvg(lista_numeros6))"
   ]
  },
  {
   "cell_type": "code",
   "execution_count": null,
   "id": "34c1fed2",
   "metadata": {},
   "outputs": [
    {
     "name": "stdout",
     "output_type": "stream",
     "text": [
      "Etiquetas\n"
     ]
    }
   ],
   "source": [
    "#EJERCICIO 28: Crea una función que busque y devuelva el primer elemento duplicado en una lista dada. PENDIENTE\n",
    "\n",
    "words = ['Etiquetas', 'Libros',  'Funkos', 'Cascos', 'Palomitas', 'Tres', 'AP', 'Libros', 'Funkos']\n",
    "\n",
    "def findFirstDuplicated(lista):\n",
    "    for item in lista:\n",
    "        if item not in lista:\n",
    "            item = 1\n",
    "        else:\n",
    "            return item\n",
    "\n",
    "\n",
    "print(findFirstDuplicated(words))"
   ]
  },
  {
   "cell_type": "code",
   "execution_count": null,
   "id": "87fe6e96",
   "metadata": {},
   "outputs": [],
   "source": [
    "#EJERCICIO 29: Crea una función que convierta una variable en una cadena de texto y enmascare todos los caracteres con el carácter '#' excepto los últimos cuatro."
   ]
  }
 ],
 "metadata": {
  "kernelspec": {
   "display_name": "Python 3",
   "language": "python",
   "name": "python3"
  },
  "language_info": {
   "codemirror_mode": {
    "name": "ipython",
    "version": 3
   },
   "file_extension": ".py",
   "mimetype": "text/x-python",
   "name": "python",
   "nbconvert_exporter": "python",
   "pygments_lexer": "ipython3",
   "version": "3.13.5"
  }
 },
 "nbformat": 4,
 "nbformat_minor": 5
}
