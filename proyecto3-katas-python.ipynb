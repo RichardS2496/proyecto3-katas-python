{
 "cells": [
  {
   "cell_type": "code",
   "execution_count": 13,
   "id": "1d88728e",
   "metadata": {},
   "outputs": [
    {
     "name": "stdout",
     "output_type": "stream",
     "text": [
      "Respuesta del ejericio 01: {'h': 2, 'o': 3, 'l': 1, 'a': 2, 'm': 1, 'u': 1, 'n': 2, 'd': 2, 'e': 1, 'p': 4, 'y': 1, 't': 1}\n"
     ]
    }
   ],
   "source": [
    "# EJERCICIO 01: Escribe una función que reciba una cadena de texto como parámetro y \n",
    "# devuelva un diccionario con las frecuencias de cada letra en la cadena. \n",
    "# Los espacios no deben ser considerados.\n",
    "\n",
    "text = \"holaa mundo de Python p p p\"\n",
    "\n",
    "def counterLetter(text):\n",
    "    new_dict = {}\n",
    "\n",
    "    text_converted = text.lower()\n",
    "    #En este punto quise que contara las mayus y minus como una misma letra.\n",
    "\n",
    "    for letter in text_converted:\n",
    "        if letter == \" \":\n",
    "            continue\n",
    "        elif letter in new_dict:\n",
    "            new_dict[letter] += 1\n",
    "        else:\n",
    "            new_dict[letter] = 1\n",
    "    return new_dict\n",
    "   \n",
    "\n",
    "print(f\"Respuesta del ejericio 01: {counterLetter(text)}\")\n"
   ]
  },
  {
   "cell_type": "code",
   "execution_count": 12,
   "id": "638e08fa",
   "metadata": {},
   "outputs": [
    {
     "name": "stdout",
     "output_type": "stream",
     "text": [
      "Respuesta del ejercicio 02: [46, 50, 152, 10, 6, 90, 5094, 90, 470]\n"
     ]
    }
   ],
   "source": [
    "#EJERCICIO 02: Dada una lista de números, obtén una nueva lista con el doble de cada valor. Usa la función map().\n",
    "\n",
    "lista_numeros=[23,25,76,5,3,45,2547,45,235]\n",
    "\n",
    "new_list_number = map(lambda x:x*2, lista_numeros)\n",
    "\n",
    "print(f\"Respuesta del ejercicio 02: {list(new_list_number)}\")"
   ]
  },
  {
   "cell_type": "code",
   "execution_count": 20,
   "id": "734134c6",
   "metadata": {},
   "outputs": [
    {
     "name": "stdout",
     "output_type": "stream",
     "text": [
      "Respuesta del ejercicio 03: ['Vida en Sevilla', 'Acuario de Sevilla']\n"
     ]
    }
   ],
   "source": [
    "#EJERCICIO 03: Escribe una función que tome una lista de palabras y una palabra objetivo como parámetros. \n",
    "# La función debe devolver una lista con todas las palabras de la lista original que contengan la palabra objetivo.\n",
    "\n",
    "list_phrases = [\"Vida en Sevilla\", \"Castilla La Mancha\", \"Verano en Madrid\", \"Espetos de Malaga\", \"Acuario de Sevilla\"]\n",
    "word = \"Sevilla\"\n",
    "\n",
    "new_list=[]\n",
    "\n",
    "\n",
    "def findWordInPhrases (phrases, word):\n",
    "    for phrase in phrases:\n",
    "        if word in phrase:\n",
    "            new_list.append(phrase)\n",
    "    return new_list\n",
    "print(f\"Respuesta del ejercicio 03: {findWordInPhrases(list_phrases, word)}\")\n"
   ]
  },
  {
   "cell_type": "code",
   "execution_count": 8,
   "id": "ee3e34dd",
   "metadata": {},
   "outputs": [
    {
     "name": "stdout",
     "output_type": "stream",
     "text": [
      "Respuesta del ejercicio 04: [3, 2, 10, -2, -7, 0]\n"
     ]
    }
   ],
   "source": [
    "#EJERCICIO 04: Genera una función que calcule la diferencia entre los valores de dos listas. Usa la función map().\n",
    "\n",
    "lista1 = [5, 10, 15, 2, 13, 4]\n",
    "lista2 = [2, 8, 5, 4, 20, 4]\n",
    "\n",
    "\n",
    "def restaLista(lista1, lista2):\n",
    "    resultado = map(lambda x,y: x-y, lista1, lista2)\n",
    "    return resultado\n",
    "\n",
    "\n",
    "print(f\"Respuesta del ejercicio 04: {list(restaLista(lista1, lista2))}\")"
   ]
  },
  {
   "cell_type": "code",
   "execution_count": null,
   "id": "ce3bb01e",
   "metadata": {},
   "outputs": [
    {
     "data": {
      "text/plain": [
       "(4.65, 'Suspenso')"
      ]
     },
     "execution_count": 39,
     "metadata": {},
     "output_type": "execute_result"
    }
   ],
   "source": [
    "#EJERCICIO 05: Escribe una función que tome una lista de números como parámetro y un valor opcional nota_aprobado (por defecto 5). \n",
    "# La función debe calcular la media de los números en la lista y determinar si la media es mayor o igual que nota_aprobado. \n",
    "# Si es así, el estado será \"aprobado\"; de lo contrario, \"suspenso\". \n",
    "# La función debe devolver una tupla que contenga la media y el estado.\n",
    "\n",
    "from functools import reduce\n",
    "\n",
    "lista_numeros2=[9, 5, 7, 6, 5, 3, 4, 5, 2, 5, 4, 7, 4, 2, 3, 3, 5]\n",
    "\n",
    "def calculateAvg (lista, nota_aprobado = 5):\n",
    "    #A continuacion, hago el calculo de la media con el reduce, como me arroja muchos decimales he redondeado a 2\n",
    "    average= round(reduce(lambda x,y: x+y, lista) / len(lista), 2)\n",
    "\n",
    "    if average >= nota_aprobado:\n",
    "        return (average, \"Aprobado\")\n",
    "    else:\n",
    "        return (average, \"Suspenso\")\n",
    "\n",
    "calculateAvg(lista_numeros2)"
   ]
  },
  {
   "cell_type": "code",
   "execution_count": 11,
   "id": "1e104398",
   "metadata": {},
   "outputs": [
    {
     "name": "stdout",
     "output_type": "stream",
     "text": [
      "El resultado es: 24\n"
     ]
    }
   ],
   "source": [
    "#EJERCICIO 06: Escribe una función que calcule el factorial de un número de manera recursiva.\n",
    "\n",
    "numero = 4\n",
    "\n",
    "def calculateFactorial(numero):\n",
    "    if numero == 0 or numero == 1:\n",
    "        return 1\n",
    "    else:\n",
    "        return numero * calculateFactorial(numero - 1)\n",
    "    \n",
    "print(f\"El resultado es: {calculateFactorial(numero)}\")"
   ]
  },
  {
   "cell_type": "code",
   "execution_count": 17,
   "id": "76726f6e",
   "metadata": {},
   "outputs": [
    {
     "name": "stdout",
     "output_type": "stream",
     "text": [
      "[\"('Ana', 25)\", \"('Luis', 30)\", \"('María', 28)\", \"('Pedro', 35)\"]\n"
     ]
    }
   ],
   "source": [
    "#EJERCICIO 07: Genera una función que convierta una lista de tuplas a una lista de strings. Usa la función map().\n",
    "\n",
    "personas = [(\"Ana\", 25),(\"Luis\", 30),(\"María\", 28),(\"Pedro\", 35)]\n",
    "\n",
    "def tupleConverter(my_tuple_list):\n",
    "   return map(lambda x: str(x), my_tuple_list)\n",
    "    \n",
    "\n",
    "print(list(tupleConverter(personas)))"
   ]
  },
  {
   "cell_type": "code",
   "execution_count": 23,
   "id": "38a5e1b9",
   "metadata": {},
   "outputs": [
    {
     "name": "stdout",
     "output_type": "stream",
     "text": [
      "Iniciando el programa...\n",
      "La división fue exitosa. Resultado: 5.0\n",
      "Programa finalizado.\n"
     ]
    }
   ],
   "source": [
    "#EJERCICIO 08: Escribe un programa que pida al usuario dos números e intente dividirlos. \n",
    "#Si el usuario ingresa un valor no numérico o intenta dividir por cero, maneja esas excepciones de manera adecuada y muestra un mensaje indicando si la división fue exitosa o no.\n",
    "\n",
    "\n",
    "try:\n",
    "    print('Iniciando el programa...')\n",
    "    num1 = int(input(\"Introduzca un numero\"))\n",
    "    num2 = int(input(\"Introduzca otro numero\"))\n",
    "\n",
    "    resultado= num1/num2\n",
    "\n",
    "except ValueError:\n",
    "    print('Debes introducir solo valores numericos.')\n",
    "\n",
    "except ZeroDivisionError:\n",
    "    print('No es posible dividir entre cero.')\n",
    "\n",
    "else:\n",
    "    print(f\"La división fue exitosa. Resultado: {resultado}\")\n",
    "\n",
    "finally:\n",
    "    print(\"Programa finalizado.\")\n"
   ]
  },
  {
   "cell_type": "code",
   "execution_count": 24,
   "id": "4925cb63",
   "metadata": {},
   "outputs": [
    {
     "name": "stdout",
     "output_type": "stream",
     "text": [
      "La lista de los animales, excluyendo los prohibidos en España, es: ['Elefante', 'Gorila', 'Águila', 'Camello', 'Delfín', 'Zorro', 'Jirafa', 'Caballo', 'Pingüino']\n"
     ]
    }
   ],
   "source": [
    "#EJERCICIO 09: Escribe una función que tome una lista de nombres de mascotas como parámetro y devuelva una nueva lista excluyendo ciertas mascotas prohibidas en España. \n",
    "# La lista de mascotas a excluir es [\"Mapache\", \"Tigre\", \"Serpiente Pitón\", \"Cocodrilo\", \"Oso\"]. Usa la función filter().\n",
    "\n",
    "animal_list = [\"Mapache\", \"Tigre\", \"Serpiente Pitón\", \"Cocodrilo\", \"Oso\", \"Elefante\", \"Gorila\", \"Águila\", \"Camello\", \"Delfín\", \"Zorro\", \"Jirafa\", \"Caballo\", \"Pingüino\"]\n",
    "\n",
    "excluded_animal_list = [\"Mapache\", \"Tigre\", \"Serpiente Pitón\", \"Cocodrilo\", \"Oso\"]\n",
    "\n",
    "\n",
    "def excludeAnimal( list1, list2):\n",
    "    return list(filter(lambda x: x not in list2, list1))\n",
    "\n",
    "print(f'La lista de los animales, excluyendo los prohibidos en España, es: {excludeAnimal(animal_list, excluded_animal_list)}')"
   ]
  },
  {
   "cell_type": "code",
   "execution_count": 30,
   "id": "342f8438",
   "metadata": {},
   "outputs": [
    {
     "name": "stdout",
     "output_type": "stream",
     "text": [
      "El promedio es: 7.58\n"
     ]
    }
   ],
   "source": [
    "#EJERCICIO 10: Escribe una función que reciba una lista de números y calcule su promedio. \n",
    "# Si la lista está vacía, lanza una excepción personalizada y maneja el error adecuadamente.\n",
    "\n",
    "from functools import reduce\n",
    "\n",
    "lista_numeros3=[9, 5, 7, 6, 5, 3, 4, 5, 2, 5, 4, 7, 4, 2, 3, 3, 5,20,45]\n",
    "\n",
    "class EmptyValueError(Exception):\n",
    "    \"\"\"Se lanza cuando la lista está vacía.\"\"\"\n",
    "    pass\n",
    "\n",
    "def calculateAvg2(lista):\n",
    "    if len(lista)==0:\n",
    "        raise EmptyValueError('La lista esta vacia') #tuve que usar la IA con el tema de excepcion personalizada\n",
    "    else:\n",
    "        return round(reduce(lambda x,y: x+y,lista)/len(lista),2)\n",
    "\n",
    "try:\n",
    "    print(f\"El promedio es: {calculateAvg2(lista_numeros3)}\")\n",
    "except EmptyValueError as e:\n",
    "    print(f\"❌ Error: {e}\")"
   ]
  }
 ],
 "metadata": {
  "kernelspec": {
   "display_name": "Python 3",
   "language": "python",
   "name": "python3"
  },
  "language_info": {
   "codemirror_mode": {
    "name": "ipython",
    "version": 3
   },
   "file_extension": ".py",
   "mimetype": "text/x-python",
   "name": "python",
   "nbconvert_exporter": "python",
   "pygments_lexer": "ipython3",
   "version": "3.13.5"
  }
 },
 "nbformat": 4,
 "nbformat_minor": 5
}
